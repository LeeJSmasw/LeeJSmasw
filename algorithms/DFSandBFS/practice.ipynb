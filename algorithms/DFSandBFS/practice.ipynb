{
 "cells": [
  {
   "cell_type": "code",
   "execution_count": null,
   "metadata": {},
   "outputs": [],
   "source": [
    "from collections import deque\n",
    "\n",
    "queue = deque([1,2,3,4,5])\n",
    "print(queue)\n",
    "queue.popleft()\n",
    "queue.popleft()\n",
    "queue.popleft()\n",
    "print(queue)"
   ]
  }
 ],
 "metadata": {
  "language_info": {
   "name": "python"
  },
  "orig_nbformat": 4
 },
 "nbformat": 4,
 "nbformat_minor": 2
}
