{
 "cells": [
  {
   "cell_type": "markdown",
   "metadata": {},
   "source": [
    "# 입력조건\n",
    "첫쨰 줄에 여러 개의 숫자로 구서오딘 하나의 문자열 S가 주어집니다. (1<=S의길이 <=20)\n",
    "\n",
    "# 출력 조건\n",
    "첫째 줄에 만들어질 수 있는 가장 큰 수를 출력합니다.\n",
    "\n",
    "입력예시\n",
    "02984           -> 576\n",
    "\n",
    "입력예시\n",
    "567             -> 210\n",
    "\n"
   ]
  },
  {
   "cell_type": "markdown",
   "metadata": {},
   "source": [
    "while True"
   ]
  },
  {
   "cell_type": "code",
   "execution_count": 15,
   "metadata": {},
   "outputs": [
    {
     "name": "stdout",
     "output_type": "stream",
     "text": [
      "210\n"
     ]
    }
   ],
   "source": [
    "a = list(map(int,input()))\n",
    "cnt =0\n",
    "sum=0\n",
    "while True:\n",
    "    if cnt == len(a):\n",
    "        break\n",
    "    else:\n",
    "        if a[cnt]*sum==0:\n",
    "            sum += a[cnt] \n",
    "            cnt=cnt+1\n",
    "        else:\n",
    "            sum = sum*a[cnt]\n",
    "            cnt = cnt+1\n",
    "print(sum)\n",
    "    \n",
    "    \n",
    "    "
   ]
  }
 ],
 "metadata": {
  "interpreter": {
   "hash": "744ecfc10ac2d171c3bd316844f313bbe8516d91ab7badfb0818b539d4ffe180"
  },
  "kernelspec": {
   "display_name": "Python 3.9.9 64-bit",
   "language": "python",
   "name": "python3"
  },
  "language_info": {
   "codemirror_mode": {
    "name": "ipython",
    "version": 3
   },
   "file_extension": ".py",
   "mimetype": "text/x-python",
   "name": "python",
   "nbconvert_exporter": "python",
   "pygments_lexer": "ipython3",
   "version": "3.9.9"
  },
  "orig_nbformat": 4
 },
 "nbformat": 4,
 "nbformat_minor": 2
}
