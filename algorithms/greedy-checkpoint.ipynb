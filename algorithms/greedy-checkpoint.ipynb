{
 "cells": [
  {
   "cell_type": "code",
   "execution_count": null,
   "metadata": {},
   "outputs": [],
   "source": [
    "# 그리디 4. 1이 될 떄까지"
   ]
  },
  {
   "cell_type": "code",
   "execution_count": null,
   "metadata": {},
   "outputs": [],
   "source": [
    "1. N에서 1을 뺀다.\n",
    "2. N을 k로 나눈다.\n"
   ]
  },
  {
   "cell_type": "markdown",
   "metadata": {},
   "source": [
    "# 상하좌우"
   ]
  },
  {
   "cell_type": "code",
   "execution_count": 41,
   "metadata": {},
   "outputs": [
    {
     "name": "stdout",
     "output_type": "stream",
     "text": [
      "5\n",
      "R R R U D D\n",
      "3 4\n"
     ]
    }
   ],
   "source": [
    "#내가 짠 코드!\n",
    "a = int(input())\n",
    "\n",
    "x,y=1,1\n",
    "\n",
    "move_data = list(input().split(' ')) #처음이 split('')이렇게 하는 바람에 스플릿이 안되서 계속 결과값이 1,1만 나와었지..\n",
    " \n",
    "for i in move_data:\n",
    "    if i=='L':\n",
    "        \n",
    "        if x>=2:\n",
    "            x -=1\n",
    "        else:\n",
    "            continue\n",
    "        \n",
    "    elif i=='R':\n",
    "        x+=1\n",
    "        \n",
    "    elif i=='U':\n",
    "        if y>=2:\n",
    "            y=y-1\n",
    "        else:\n",
    "            continue\n",
    "        \n",
    "    elif i=='D':\n",
    "        y=y+1\n",
    "#     else:\n",
    "#         raise ValueError\n",
    "print(y,x)\n",
    "#->x  ↓밑으로 가는건 Y좌표 그러므로 Y 먼저 출력 그다음 X 출력 물리 좌표랑 좀 다르넹 (111p 참고)   "
   ]
  },
  {
   "cell_type": "code",
   "execution_count": 40,
   "metadata": {},
   "outputs": [
    {
     "name": "stdout",
     "output_type": "stream",
     "text": [
      "5\n",
      "R R R U D D\n",
      "3 4\n"
     ]
    }
   ],
   "source": [
    "#Dong bin na codeing\n",
    "n = int(input())\n",
    "x,y = 1,1\n",
    "plans = input().split()  # 이렇게 해도 리스트로 되는구나..\n",
    "\n",
    "dx = [0,0,-1,1]\n",
    "dy = [-1,1,0,0]\n",
    "\n",
    "move_types = ['L',\"R\",\"U\",\"D\"]\n",
    "\n",
    "for plan in plans:\n",
    "    #이동 후 좌표 구하기\n",
    "    for i in range(len(move_types)):\n",
    "        if plan == move_types[i]:\n",
    "            nx = x + dx[i]\n",
    "            ny = y + dy[i]\n",
    "    if nx<1 or ny<1 or nx>n or ny>n:\n",
    "        continue\n",
    "    \n",
    "    x,y = nx, ny\n",
    "print(x,y)"
   ]
  },
  {
   "cell_type": "markdown",
   "metadata": {},
   "source": [
    "갓동빈은 왜 for문을 두번 썻을까.. 뭐가 더 빠른 풀이인지 어떻게 하면 알  수있을까나"
   ]
  },
  {
   "cell_type": "code",
   "execution_count": null,
   "metadata": {},
   "outputs": [],
   "source": []
  }
 ],
 "metadata": {
  "kernelspec": {
   "display_name": "Python 3 (ipykernel)",
   "language": "python",
   "name": "python3"
  },
  "language_info": {
   "codemirror_mode": {
    "name": "ipython",
    "version": 3
   },
   "file_extension": ".py",
   "mimetype": "text/x-python",
   "name": "python",
   "nbconvert_exporter": "python",
   "pygments_lexer": "ipython3",
   "version": "3.9.9"
  }
 },
 "nbformat": 4,
 "nbformat_minor": 2
}
