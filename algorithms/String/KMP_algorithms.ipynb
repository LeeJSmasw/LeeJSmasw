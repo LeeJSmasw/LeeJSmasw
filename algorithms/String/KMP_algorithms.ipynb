{
 "cells": [
  {
   "cell_type": "code",
   "execution_count": null,
   "metadata": {},
   "outputs": [],
   "source": [
    "import sys\n",
    "\n",
    "sys.stdin = open('input.txt', 'r')\n",
    "\n",
    "#A B C A B A B C A A B C E F\n",
    "#A B C D A B C E F\n",
    "#0 0 0 0 0 0 0 0 0 갓 토니가 이걸 왜 설멍 했었지..?\n",
    "#탐색의 단계 \n",
    "# 1단계 for a 문으로 전부 탐색 \n",
    "# 2단계 while 문으로 전부 탐색 (for => while)\n",
    "# 3단계 while 문에서 1건씩 이동하던걸 여러칸 씩 이동 (KMP)\n",
    "def get_pi (target_text):\n",
    "    begin = 0\n",
    "    length = len(target_text)\n",
    "    \n",
    "    pi = [0 for _ in range(length)]\n",
    "    \n",
    "    for i in range(1, N):\n",
    "        while 0 < begin and target_text[i] != target_text[begin]:\n",
    "            begin = pi[begin -1]\n",
    "            \n",
    "        if target_text[i] == target_text[begin]:\n",
    "            begin += 1\n",
    "            pi[i] = begin\n",
    "    \n",
    "    return pi\n",
    "\n",
    "\n",
    "            "
   ]
  },
  {
   "cell_type": "code",
   "execution_count": null,
   "metadata": {},
   "outputs": [],
   "source": [
    "\n",
    "\n",
    "# D - KMP 알고리즘\n",
    "# KMP 알고리즘을 수행하기 전, 패턴을 처리하는 함수\n",
    "# 패턴의 테이블 생성\n",
    "def KMP_table(pattern):\n",
    "    lp = len(pattern)\n",
    "    tb = [0 for _ in range(lp)] # 정보 저장용 테이블\n",
    "    \n",
    "    pidx = 0 # 테이블의 값을 불러오고, 패턴의 인덱스에 접근\n",
    "    for idx in range(1, lp): # 테이블에 값 저장하기 위해 활용하는 인덱스\n",
    "        # pidx가 0이 되거나, idx와 pidx의 pattern 접근 값이 같아질때까지 진행\n",
    "        while pidx > 0 and pattern[idx] != pattern[pidx]:\n",
    "            pidx = tb[pidx-1]\n",
    "        \n",
    "        # 값이 일치하는 경우, pidx 1 증가시키고 그 값을 tb에 저장\n",
    "        if pattern[idx] == pattern[pidx] :\n",
    "            pidx += 1\n",
    "            tb[idx] = pidx\n",
    "    \n",
    "    return tb"
   ]
  },
  {
   "cell_type": "markdown",
   "metadata": {},
   "source": []
  }
 ],
 "metadata": {
  "language_info": {
   "name": "python"
  },
  "orig_nbformat": 4
 },
 "nbformat": 4,
 "nbformat_minor": 2
}
