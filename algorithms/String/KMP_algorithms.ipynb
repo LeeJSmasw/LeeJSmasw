{
 "cells": [
  {
   "cell_type": "code",
   "execution_count": null,
   "metadata": {},
   "outputs": [],
   "source": [
    "import sys\n",
    "\n",
    "sys.stdin = open('input.txt', 'r')\n",
    "\n",
    "#A B C A B A B C A A B C E F\n",
    "#A B C D A B C E F\n",
    "#0 0 0 0 0 0 0 0 0 갓 토니가 이걸 왜 설멍 했었지..?\n",
    "\n",
    "def get_pi (target_text):\n",
    "    begin = 0\n",
    "    length = len(target_text)\n",
    "    \n",
    "    pi = [0 for _ in range(length)]\n",
    "    \n",
    "    for i in range(1, N):\n",
    "        while 0 < begin and target_text[i] != target_text[begin]:\n",
    "            begin = pi[begin -1]\n",
    "            \n",
    "        if target_text[i] == target_text[begin]:\n",
    "            begin += 1\n",
    "            pi[i] = begin\n",
    "            \n",
    "            "
   ]
  },
  {
   "cell_type": "code",
   "execution_count": null,
   "metadata": {},
   "outputs": [],
   "source": []
  }
 ],
 "metadata": {
  "language_info": {
   "name": "python"
  },
  "orig_nbformat": 4
 },
 "nbformat": 4,
 "nbformat_minor": 2
}
